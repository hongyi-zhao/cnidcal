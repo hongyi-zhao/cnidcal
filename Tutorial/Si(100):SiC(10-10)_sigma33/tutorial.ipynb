{
 "cells": [
  {
   "cell_type": "code",
   "execution_count": 1,
   "metadata": {},
   "outputs": [],
   "source": [
    "import cnidcal.cnidcal as cdc\n",
    "import numpy as np\n",
    "from numpy import dot, cross, pi, square, array\n",
    "from numpy.linalg import det, norm, inv\n",
    "from cnidcal.celldraw import cellsdrawer"
   ]
  },
  {
   "cell_type": "markdown",
   "metadata": {},
   "source": [
    "# Inpute two primitive lattices, a rotation matrix"
   ]
  },
  {
   "cell_type": "code",
   "execution_count": 2,
   "metadata": {},
   "outputs": [],
   "source": [
    "lattice_1 = np.load('lattice_1.npy')\n",
    "lattice_2 = np.load('lattice_2.npy')\n",
    "D = np.load('D.npy')\n",
    "R = np.load('R.npy')\n",
    "lattice_2 = dot(D, lattice_2)"
   ]
  },
  {
   "cell_type": "markdown",
   "metadata": {},
   "source": [
    "# Get the miller indices of the interface plane expressed in the primitive lattice (you can obtain this by transfoming the conventional miller indices)"
   ]
  },
  {
   "cell_type": "code",
   "execution_count": 3,
   "metadata": {},
   "outputs": [
    {
     "data": {
      "text/plain": [
       "array([-1, -1,  0])"
      ]
     },
     "execution_count": 3,
     "metadata": {},
     "output_type": "execute_result"
    }
   ],
   "source": [
    "conv_lattice_1 = array([[ 5.46872800e+00, -3.34863012e-16,  0.00000000e+00],\n",
    "                        [ 0.00000000e+00,  5.46872800e+00,  0.00000000e+00],\n",
    "                        [ 3.34863012e-16,  3.34863012e-16,  5.46872800e+00]])\n",
    "\n",
    "miller_ind_pri = cdc.get_primitive_hkl(hkl = [1,0,0], C_lattice = conv_lattice_1, P_lattice = lattice_1)\n",
    "miller_ind_pri"
   ]
  },
  {
   "cell_type": "markdown",
   "metadata": {},
   "source": [
    "# Get the two plane bases"
   ]
  },
  {
   "cell_type": "code",
   "execution_count": 4,
   "metadata": {},
   "outputs": [
    {
     "data": {
      "text/plain": [
       "(array([[-1.67431506e-16,  0.00000000e+00],\n",
       "        [ 2.73436400e+00, -2.73436400e+00],\n",
       "        [ 2.73436400e+00,  2.73436400e+00]]),\n",
       " array([[ 3.51117515e-16,  1.12111499e-15],\n",
       "        [-3.19009133e+00, -5.01300067e+00],\n",
       "        [ 4.55727333e-01, -2.50650033e+01]]))"
      ]
     },
     "execution_count": 4,
     "metadata": {},
     "output_type": "execute_result"
    }
   ],
   "source": [
    "PB_1, PB_2 = cdc.get_two_bases(lattice_1, lattice_2, R, miller_ind_pri)\n",
    "PB_1, PB_2"
   ]
  },
  {
   "cell_type": "markdown",
   "metadata": {},
   "source": [
    "# Compute the two-D CSL & CNID, and you can express them in the primitive lattice or conventional lattice frame"
   ]
  },
  {
   "cell_type": "code",
   "execution_count": 5,
   "metadata": {},
   "outputs": [],
   "source": [
    "CSL = cdc.search_CSL(PB_1, PB_2, 20)\n",
    "CNID = cdc.searchcnid(PB_1, PB_2, 20)"
   ]
  },
  {
   "cell_type": "code",
   "execution_count": 6,
   "metadata": {},
   "outputs": [
    {
     "data": {
      "text/plain": [
       "(array([[-4.,  3.],\n",
       "        [ 4., -3.],\n",
       "        [-3., -6.]]),\n",
       " array([[-0. , -0. ],\n",
       "        [ 3.5,  1.5],\n",
       "        [-0.5,  4.5]]))"
      ]
     },
     "execution_count": 6,
     "metadata": {},
     "output_type": "execute_result"
    }
   ],
   "source": [
    "#CSL expressed in the primitive and conventional cell\n",
    "CSL_in_P = np.round(cdc.get_coef_exp_ltc(lattice_1, CSL),5)\n",
    "CSL_in_C = np.round(cdc.get_coef_exp_ltc(conv_lattice_1, CSL),5)\n",
    "CSL_in_P, CSL_in_C"
   ]
  },
  {
   "cell_type": "code",
   "execution_count": 7,
   "metadata": {},
   "outputs": [
    {
     "data": {
      "text/plain": [
       "array([['1/3', '0/2'],\n",
       "       ['-1/3', '0/2'],\n",
       "       ['0/3', '-1/2']], dtype='<U21')"
      ]
     },
     "execution_count": 7,
     "metadata": {},
     "output_type": "execute_result"
    }
   ],
   "source": [
    "#CNID expressed in primitive lattice 1\n",
    "CNID_in_P = cdc.get_coef_exp_ltc(lattice_1, CNID)\n",
    "cdc.get_fraction_basis(CNID_in_P)"
   ]
  },
  {
   "cell_type": "code",
   "execution_count": 8,
   "metadata": {},
   "outputs": [
    {
     "data": {
      "text/plain": [
       "array([['0/6', '0/4'],\n",
       "       ['-1/6', '1/4'],\n",
       "       ['1/6', '1/4']], dtype='<U21')"
      ]
     },
     "execution_count": 8,
     "metadata": {},
     "output_type": "execute_result"
    }
   ],
   "source": [
    "#CNID expressed in conventional lattice 1\n",
    "CNID_in_C = cdc.get_coef_exp_ltc(conv_lattice_1, CNID)\n",
    "cdc.get_fraction_basis(CNID_in_C)"
   ]
  },
  {
   "cell_type": "code",
   "execution_count": 9,
   "metadata": {},
   "outputs": [
    {
     "data": {
      "text/plain": [
       "array([['0/33', '0/33'],\n",
       "       ['10/33', '-13/33'],\n",
       "       ['-1/33', '-2/33']], dtype='<U21')"
      ]
     },
     "execution_count": 9,
     "metadata": {},
     "output_type": "execute_result"
    }
   ],
   "source": [
    "#CNID expressed in lattice 2\n",
    "CNID_in_P = cdc.get_coef_exp_ltc(dot(R,lattice_2), CNID)\n",
    "cdc.get_fraction_basis(CNID_in_P)"
   ]
  },
  {
   "cell_type": "markdown",
   "metadata": {},
   "source": [
    "# Visualize the cells"
   ]
  },
  {
   "cell_type": "markdown",
   "metadata": {},
   "source": [
    "A drawer class containing information of all cells"
   ]
  },
  {
   "cell_type": "code",
   "execution_count": 10,
   "metadata": {},
   "outputs": [],
   "source": [
    "my_cells = cellsdrawer(PB_1, PB_2, CSL, CNID, 20)"
   ]
  },
  {
   "cell_type": "markdown",
   "metadata": {},
   "source": [
    "The CSL lattice of the two plane basis"
   ]
  },
  {
   "cell_type": "code",
   "execution_count": 35,
   "metadata": {},
   "outputs": [
    {
     "data": {
      "image/png": "[encoded data removed]",
      "text/plain": [
       "<Figure size 720x360 with 1 Axes>"
      ]
     },
     "metadata": {
      "needs_background": "light"
     },
     "output_type": "display_data"
    }
   ],
   "source": [
    "#Show the two lattices and their CSL\n",
    "my_cells.draw_direct(xlow = -30, xhigh = 40, ylow = -18, \n",
    "                     yhigh = 15, figsize_x = 10, figsize_y = 5, size_LP_1=120, size_LP_2=60, show_legend=True, save = True)"
   ]
  },
  {
   "cell_type": "code",
   "execution_count": 36,
   "metadata": {},
   "outputs": [
    {
     "data": {
      "image/png": "[encoded data removed]",
      "text/plain": [
       "<Figure size 576x720 with 1 Axes>"
      ]
     },
     "metadata": {
      "needs_background": "light"
     },
     "output_type": "display_data"
    }
   ],
   "source": [
    "#Show the zoomed figure and DSC\n",
    "my_cells.draw_direct(xlow = -30, xhigh = 6, ylow = -15, yhigh = 6, \\\n",
    "                     figsize_x = 8, figsize_y = 10, size_LP_1 = 400, \\\n",
    "                     size_LP_2 = 200, show_CNID_points = True, show_CNID_cell = True, show_legend = True, save = True)"
   ]
  },
  {
   "cell_type": "markdown",
   "metadata": {},
   "source": [
    "The CSL lattice of the two reciprocal lattices"
   ]
  }
 ],
 "metadata": {
  "kernelspec": {
   "display_name": "Python 3",
   "language": "python",
   "name": "python3"
  },
  "language_info": {
   "codemirror_mode": {
    "name": "ipython",
    "version": 3
   },
   "file_extension": ".py",
   "mimetype": "text/x-python",
   "name": "python",
   "nbconvert_exporter": "python",
   "pygments_lexer": "ipython3",
   "version": "3.8.3"
  }
 },
 "nbformat": 4,
 "nbformat_minor": 4
}
